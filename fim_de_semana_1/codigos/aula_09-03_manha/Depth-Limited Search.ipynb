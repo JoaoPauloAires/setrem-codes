{
 "cells": [
  {
   "cell_type": "code",
   "execution_count": 1,
   "id": "7ee0abd4",
   "metadata": {},
   "outputs": [],
   "source": [
    "#    Copyright 2019 Atikur Rahman Chitholian\n",
    "#\n",
    "#    Licensed under the Apache License, Version 2.0 (the \"License\");\n",
    "#    you may not use this file except in compliance with the License.\n",
    "#    You may obtain a copy of the License at\n",
    "#\n",
    "#        http://www.apache.org/licenses/LICENSE-2.0\n",
    "#\n",
    "#    Unless required by applicable law or agreed to in writing, software\n",
    "#    distributed under the License is distributed on an \"AS IS\" BASIS,\n",
    "#    WITHOUT WARRANTIES OR CONDITIONS OF ANY KIND, either express or implied.\n",
    "#    See the License for the specific language governing permissions and\n",
    "#    limitations under the License.\n",
    "from collections import deque"
   ]
  },
  {
   "cell_type": "code",
   "execution_count": 2,
   "id": "6037ce8e",
   "metadata": {},
   "outputs": [],
   "source": [
    "class Graph:\n",
    "    def __init__(self, directed=True):\n",
    "        self.edges = {}\n",
    "        self.directed = directed\n",
    "\n",
    "    def add_edge(self, node1, node2, __reversed=False):\n",
    "        try: neighbors = self.edges[node1]\n",
    "        except KeyError: neighbors = set()\n",
    "        neighbors.add(node2)\n",
    "        self.edges[node1] = neighbors\n",
    "        if not self.directed and not __reversed: self.add_edge(node2, node1, True)\n",
    "\n",
    "    def neighbors(self, node):\n",
    "        try: return self.edges[node]\n",
    "        except KeyError: return []\n",
    "\n",
    "    def depth_limited_search(self, start, goal, limit=-1):\n",
    "        print('Depth limit =', limit)\n",
    "        found, fringe, visited, came_from = False, deque([(0, start)]), set([start]), {start: None}\n",
    "        print('{:11s} | {}'.format('Expand Node', 'Fringe'))\n",
    "        print('--------------------')\n",
    "        print('{:11s} | {}'.format('-', start))\n",
    "        while not found and len(fringe):\n",
    "            depth, current = fringe.pop()\n",
    "            print('{:11s}'.format(current), end=' | ')\n",
    "            if current == goal: found = True; break\n",
    "            if limit == -1 or depth < limit:\n",
    "                for node in self.neighbors(current):\n",
    "                    if node not in visited:\n",
    "                        visited.add(node); fringe.append((depth + 1, node))\n",
    "                        came_from[node] = current\n",
    "            print(', '.join([n for _, n in fringe]))\n",
    "        if found: print(); return came_from\n",
    "        else: print('No path from {} to {}'.format(start, goal))\n",
    "            \n",
    "    @staticmethod\n",
    "    def print_path(came_from, goal):\n",
    "        parent = came_from[goal]\n",
    "        if parent:\n",
    "            Graph.print_path(came_from, parent)\n",
    "        else: print(goal, end='');return\n",
    "        print(' =>', goal, end='')\n",
    "\n",
    "    def __str__(self):\n",
    "        return str(self.edges)"
   ]
  },
  {
   "cell_type": "code",
   "execution_count": 3,
   "id": "2a83106d",
   "metadata": {},
   "outputs": [
    {
     "name": "stdout",
     "output_type": "stream",
     "text": [
      "Depth limit = 3\n",
      "Expand Node | Fringe\n",
      "--------------------\n",
      "-           | A\n",
      "A           | B, S\n",
      "S           | B, G, C\n",
      "C           | B, G, E, F, D\n",
      "D           | B, G, E, F\n",
      "F           | B, G, E\n",
      "E           | B, G\n",
      "G           | B, H\n",
      "H           | \n",
      "Path: A => S => G => H\n"
     ]
    }
   ],
   "source": [
    "graph = Graph(directed=False)\n",
    "graph.add_edge('A', 'B')\n",
    "graph.add_edge('A', 'S')\n",
    "graph.add_edge('S', 'G')\n",
    "graph.add_edge('S', 'C')\n",
    "graph.add_edge('C', 'F')\n",
    "graph.add_edge('G', 'F')\n",
    "graph.add_edge('C', 'D')\n",
    "graph.add_edge('C', 'E')\n",
    "graph.add_edge('E', 'H')\n",
    "graph.add_edge('G', 'H')\n",
    "start, goal, l = 'A', 'H', 3\n",
    "traced_path = graph.depth_limited_search(start, goal, l)\n",
    "if (traced_path): print('Path:', end=' '); Graph.print_path(traced_path, goal);print()"
   ]
  },
  {
   "cell_type": "code",
   "execution_count": 20,
   "id": "7b0316cf",
   "metadata": {},
   "outputs": [],
   "source": [
    "romenia = Graph(directed=False)\n",
    "romenia.add_edge('Arad', 'Zerind')\n",
    "romenia.add_edge('Arad', 'Timisoara')\n",
    "romenia.add_edge('Arad', 'Sibiu')\n",
    "romenia.add_edge('Zerind', 'Arad')\n",
    "romenia.add_edge('Zerind', 'Oradea')\n",
    "romenia.add_edge('Timisoara', 'Arad')\n",
    "romenia.add_edge('Timisoara', 'Lugoj')\n",
    "romenia.add_edge('Sibiu', 'Arad')\n",
    "romenia.add_edge('Sibiu', 'Fagaras')\n",
    "romenia.add_edge('Sibiu', 'Rimnicu Vilcea')\n",
    "romenia.add_edge('Sibiu', 'Oradea')\n",
    "romenia.add_edge('Oradea', 'Zerind')\n",
    "romenia.add_edge('Oradea', 'Sibiu')\n",
    "romenia.add_edge('Lugoj', 'Timisoara')\n",
    "romenia.add_edge('Lugoj', 'Mehadia')\n",
    "romenia.add_edge('Fagaras', 'Sibiu')\n",
    "romenia.add_edge('Fagaras', 'Bucharest')\n",
    "romenia.add_edge('Mehadia', 'Lugoj')\n",
    "romenia.add_edge('Mehadia', 'Dobreta')\n",
    "romenia.add_edge('Rimnicu Vilcea', 'Sibiu')\n",
    "romenia.add_edge('Rimnicu Vilcea', 'Pitesti')\n",
    "romenia.add_edge('Rimnicu Vilcea', 'Craiova')\n",
    "romenia.add_edge('Bucharest', 'Fagaras')\n",
    "romenia.add_edge('Bucharest', 'Pitesti')\n",
    "romenia.add_edge('Bucharest', 'Giurgiu')\n",
    "romenia.add_edge('Bucharest', 'Urziceni')\n",
    "romenia.add_edge('Craiova', 'Rimnicu Vilcea')\n",
    "romenia.add_edge('Craiova', 'Dobreta')\n",
    "romenia.add_edge('Craiova', 'Pitesti')\n",
    "romenia.add_edge('Pitesti', 'Craiova')\n",
    "romenia.add_edge('Pitesti', 'Bucharest')\n",
    "romenia.add_edge('Pitesti', 'Rimnicu Vilcea')\n",
    "romenia.add_edge('Giurgiu', 'Bucharest')\n",
    "romenia.add_edge('Urziceni', 'Bucharest')\n",
    "romenia.add_edge('Urziceni', 'Hirsova')\n",
    "romenia.add_edge('Urziceni', 'Vaslui')\n",
    "romenia.add_edge('Vaslui', 'Urziceni')\n",
    "romenia.add_edge('Vaslui', 'Iasi')\n",
    "romenia.add_edge('Iasi', 'Vaslui')\n",
    "romenia.add_edge('Iasi', 'Neamt')\n",
    "romenia.add_edge('Neamt', 'Iasi')\n",
    "romenia.add_edge('Hirsova', 'Urziceni')\n",
    "romenia.add_edge('Hirsova', 'Eforie')\n",
    "romenia.add_edge('Eforie', 'Hirsova')\n",
    "\n",
    "start, goal, l = 'Arad', 'Bucharest', 4"
   ]
  },
  {
   "cell_type": "code",
   "execution_count": 21,
   "id": "c92a73cf",
   "metadata": {},
   "outputs": [
    {
     "name": "stdout",
     "output_type": "stream",
     "text": [
      "Depth limit = 4\n",
      "Expand Node | Fringe\n",
      "--------------------\n",
      "-           | Arad\n",
      "Arad        | Zerind, Timisoara, Sibiu\n",
      "Sibiu       | Zerind, Timisoara, Rimnicu Vilcea, Oradea, Fagaras\n",
      "Fagaras     | Zerind, Timisoara, Rimnicu Vilcea, Oradea, Bucharest\n",
      "Bucharest   | \n",
      "Path: Arad => Sibiu => Fagaras => Bucharest\n"
     ]
    }
   ],
   "source": [
    "traced_path = romenia.depth_limited_search(start, goal, l)\n",
    "if (traced_path): print('Path:', end=' '); Graph.print_path(traced_path, goal);print()"
   ]
  },
  {
   "cell_type": "code",
   "execution_count": null,
   "id": "7b2ebc00",
   "metadata": {},
   "outputs": [],
   "source": []
  }
 ],
 "metadata": {
  "kernelspec": {
   "display_name": "Python 3 (ipykernel)",
   "language": "python",
   "name": "python3"
  },
  "language_info": {
   "codemirror_mode": {
    "name": "ipython",
    "version": 3
   },
   "file_extension": ".py",
   "mimetype": "text/x-python",
   "name": "python",
   "nbconvert_exporter": "python",
   "pygments_lexer": "ipython3",
   "version": "3.11.5"
  }
 },
 "nbformat": 4,
 "nbformat_minor": 5
}
